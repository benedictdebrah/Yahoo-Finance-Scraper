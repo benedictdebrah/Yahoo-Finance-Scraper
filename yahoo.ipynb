{
 "cells": [
  {
   "cell_type": "code",
   "execution_count": 1,
   "metadata": {},
   "outputs": [],
   "source": [
    "#importing necessary libraries\n",
    "import pandas as pd\n",
    "import re\n",
    "from bs4 import BeautifulSoup as sp\n",
    "import json\n",
    "import requests"
   ]
  },
  {
   "cell_type": "code",
   "execution_count": 2,
   "metadata": {},
   "outputs": [],
   "source": [
    "r = requests.get('https://finance.yahoo.com/most-active')"
   ]
  },
  {
   "cell_type": "code",
   "execution_count": 3,
   "metadata": {},
   "outputs": [],
   "source": [
    "soup = sp(r.text, 'html.parser')\n",
    "\n",
    "#locating the most active stocks table\n",
    "tb = soup.find('table')\n",
    "\n",
    "#locating my table heads for columns\n",
    "theads = tb.thead.tr.contents\n",
    "\n",
    "#looping throught the text for the names\n",
    "column_names = [c.string for c in theads]"
   ]
  },
  {
   "cell_type": "code",
   "execution_count": 4,
   "metadata": {},
   "outputs": [
    {
     "data": {
      "text/plain": [
       "[None,\n",
       " 'Name',\n",
       " 'Price (Intraday)',\n",
       " 'Change',\n",
       " '% Change',\n",
       " None,\n",
       " 'Avg Vol (3 month)',\n",
       " 'Market Cap',\n",
       " 'PE Ratio (TTM)',\n",
       " '52 Week Range']"
      ]
     },
     "execution_count": 4,
     "metadata": {},
     "output_type": "execute_result"
    }
   ],
   "source": [
    "#getting column names\n",
    "column_names\n"
   ]
  },
  {
   "cell_type": "code",
   "execution_count": 5,
   "metadata": {},
   "outputs": [],
   "source": [
    "original_list = [None, 'Name', 'Price (Intraday)', 'Change', '% Change', None, 'Avg Vol (3 month)', 'Market Cap', 'PE Ratio (TTM)', '52 Week Range']\n",
    "new_list = ['symbol' if x is None and i == 0 else 'volume' if x is None and i == 5 else x for i, x in enumerate(original_list)]\n"
   ]
  },
  {
   "cell_type": "code",
   "execution_count": 6,
   "metadata": {},
   "outputs": [
    {
     "data": {
      "text/plain": [
       "['symbol',\n",
       " 'Name',\n",
       " 'Price (Intraday)',\n",
       " 'Change',\n",
       " '% Change',\n",
       " 'volume',\n",
       " 'Avg Vol (3 month)',\n",
       " 'Market Cap',\n",
       " 'PE Ratio (TTM)',\n",
       " '52 Week Range']"
      ]
     },
     "execution_count": 6,
     "metadata": {},
     "output_type": "execute_result"
    }
   ],
   "source": [
    "new_list"
   ]
  },
  {
   "cell_type": "code",
   "execution_count": 7,
   "metadata": {},
   "outputs": [],
   "source": [
    "#table body looping (data)\n",
    "\n",
    "table_rows = tb.find(\"tbody\").find_all(\"tr\")\n",
    "l = []\n",
    "for tr in table_rows:\n",
    "    td = tr.find_all('td')\n",
    "    row = [str(tr.get_text()).strip() for tr in td]\n",
    "    l.append(row)\n",
    "    "
   ]
  },
  {
   "cell_type": "code",
   "execution_count": 8,
   "metadata": {},
   "outputs": [
    {
     "data": {
      "text/html": [
       "<div>\n",
       "<style scoped>\n",
       "    .dataframe tbody tr th:only-of-type {\n",
       "        vertical-align: middle;\n",
       "    }\n",
       "\n",
       "    .dataframe tbody tr th {\n",
       "        vertical-align: top;\n",
       "    }\n",
       "\n",
       "    .dataframe thead th {\n",
       "        text-align: right;\n",
       "    }\n",
       "</style>\n",
       "<table border=\"1\" class=\"dataframe\">\n",
       "  <thead>\n",
       "    <tr style=\"text-align: right;\">\n",
       "      <th></th>\n",
       "      <th>symbol</th>\n",
       "      <th>Name</th>\n",
       "      <th>Price (Intraday)</th>\n",
       "      <th>Change</th>\n",
       "      <th>% Change</th>\n",
       "      <th>volume</th>\n",
       "      <th>Avg Vol (3 month)</th>\n",
       "      <th>Market Cap</th>\n",
       "      <th>PE Ratio (TTM)</th>\n",
       "      <th>52 Week Range</th>\n",
       "    </tr>\n",
       "  </thead>\n",
       "  <tbody>\n",
       "    <tr>\n",
       "      <th>0</th>\n",
       "      <td>TSLA</td>\n",
       "      <td>Tesla, Inc.</td>\n",
       "      <td>197.79</td>\n",
       "      <td>+6.89</td>\n",
       "      <td>+3.61%</td>\n",
       "      <td>153.772M</td>\n",
       "      <td>179.936M</td>\n",
       "      <td>625.827B</td>\n",
       "      <td>56.84</td>\n",
       "      <td></td>\n",
       "    </tr>\n",
       "    <tr>\n",
       "      <th>1</th>\n",
       "      <td>F</td>\n",
       "      <td>Ford Motor Company</td>\n",
       "      <td>13.08</td>\n",
       "      <td>+0.53</td>\n",
       "      <td>+4.22%</td>\n",
       "      <td>80.08M</td>\n",
       "      <td>62.259M</td>\n",
       "      <td>52.139B</td>\n",
       "      <td>N/A</td>\n",
       "      <td></td>\n",
       "    </tr>\n",
       "    <tr>\n",
       "      <th>2</th>\n",
       "      <td>AI</td>\n",
       "      <td>C3.ai, Inc.</td>\n",
       "      <td>28.48</td>\n",
       "      <td>+7.17</td>\n",
       "      <td>+33.65%</td>\n",
       "      <td>75.355M</td>\n",
       "      <td>15.407M</td>\n",
       "      <td>3.196B</td>\n",
       "      <td>N/A</td>\n",
       "      <td></td>\n",
       "    </tr>\n",
       "    <tr>\n",
       "      <th>3</th>\n",
       "      <td>AAPL</td>\n",
       "      <td>Apple Inc.</td>\n",
       "      <td>151.03</td>\n",
       "      <td>+5.12</td>\n",
       "      <td>+3.51%</td>\n",
       "      <td>70.661M</td>\n",
       "      <td>73.47M</td>\n",
       "      <td>2.39T</td>\n",
       "      <td>24.68</td>\n",
       "      <td></td>\n",
       "    </tr>\n",
       "    <tr>\n",
       "      <th>4</th>\n",
       "      <td>ABEV</td>\n",
       "      <td>Ambev S.A.</td>\n",
       "      <td>2.5200</td>\n",
       "      <td>0.0000</td>\n",
       "      <td>0.00%</td>\n",
       "      <td>63.052M</td>\n",
       "      <td>26.641M</td>\n",
       "      <td>39.891B</td>\n",
       "      <td>16.80</td>\n",
       "      <td></td>\n",
       "    </tr>\n",
       "  </tbody>\n",
       "</table>\n",
       "</div>"
      ],
      "text/plain": [
       "  symbol                Name Price (Intraday)  Change % Change    volume  \\\n",
       "0   TSLA         Tesla, Inc.           197.79   +6.89   +3.61%  153.772M   \n",
       "1      F  Ford Motor Company            13.08   +0.53   +4.22%    80.08M   \n",
       "2     AI         C3.ai, Inc.            28.48   +7.17  +33.65%   75.355M   \n",
       "3   AAPL          Apple Inc.           151.03   +5.12   +3.51%   70.661M   \n",
       "4   ABEV          Ambev S.A.           2.5200  0.0000    0.00%   63.052M   \n",
       "\n",
       "  Avg Vol (3 month) Market Cap PE Ratio (TTM) 52 Week Range  \n",
       "0          179.936M   625.827B          56.84                \n",
       "1           62.259M    52.139B            N/A                \n",
       "2           15.407M     3.196B            N/A                \n",
       "3            73.47M      2.39T          24.68                \n",
       "4           26.641M    39.891B          16.80                "
      ]
     },
     "execution_count": 8,
     "metadata": {},
     "output_type": "execute_result"
    }
   ],
   "source": [
    "df = pd.DataFrame(l, columns=new_list)\n",
    "df.head()"
   ]
  },
  {
   "cell_type": "code",
   "execution_count": null,
   "metadata": {},
   "outputs": [],
   "source": []
  }
 ],
 "metadata": {
  "kernelspec": {
   "display_name": "Python 3",
   "language": "python",
   "name": "python3"
  },
  "language_info": {
   "codemirror_mode": {
    "name": "ipython",
    "version": 3
   },
   "file_extension": ".py",
   "mimetype": "text/x-python",
   "name": "python",
   "nbconvert_exporter": "python",
   "pygments_lexer": "ipython3",
   "version": "3.10.10"
  },
  "orig_nbformat": 4
 },
 "nbformat": 4,
 "nbformat_minor": 2
}
